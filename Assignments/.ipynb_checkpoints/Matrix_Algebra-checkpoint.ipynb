{
 "cells": [
  {
   "cell_type": "markdown",
   "id": "bf8bf8b8-4ca7-42ba-aa8e-7508318273ca",
   "metadata": {},
   "source": [
    "## Coding Challenges"
   ]
  },
  {
   "cell_type": "markdown",
   "id": "748e46b6-c3c1-4a75-b604-2b5e689ff327",
   "metadata": {},
   "source": [
    "1. Without the use of any python libraries or modules, develop a function that can perform matrix addition, given two numpy matrices.\n"
   ]
  },
  {
   "cell_type": "code",
   "execution_count": 3,
   "id": "6799bc66-ddd3-4c18-9ad0-8b4c71debc6e",
   "metadata": {},
   "outputs": [
    {
     "name": "stdout",
     "output_type": "stream",
     "text": [
      "[6, 8]\n",
      "[10, 12]\n"
     ]
    }
   ],
   "source": [
    "def matrix_addition(matrix1, matrix2):\n",
    "    # Check if the matrices have the same dimensions\n",
    "    if len(matrix1) != len(matrix2) or len(matrix1[0]) != len(matrix2[0]):\n",
    "        raise ValueError(\"Matrices must have the same dimensions for addition.\")\n",
    "\n",
    "    # Initialize the result matrix with zeros\n",
    "    result = [[0 for _ in range(len(matrix1[0]))] for _ in range(len(matrix1))]\n",
    "\n",
    "    # Perform matrix addition\n",
    "    for i in range(len(matrix1)):\n",
    "        for j in range(len(matrix1[0])):\n",
    "            result[i][j] = matrix1[i][j] + matrix2[i][j]\n",
    "\n",
    "    return result\n",
    "\n",
    "matrix3 = [[1, 2],\n",
    "           [3, 4]]\n",
    "matrix4 = [[5, 6],\n",
    "           [7, 8]]\n",
    "\n",
    "result = matrix_addition(matrix3, matrix4)\n",
    "for row in result:\n",
    "    print(row)"
   ]
  },
  {
   "cell_type": "markdown",
   "id": "dd434cf3-b050-4692-b0f6-ef189d06f9d9",
   "metadata": {},
   "source": [
    "2. Without the use of any python libraries or modules, develop a function that can multiply two numpy matrices.\n"
   ]
  },
  {
   "cell_type": "code",
   "execution_count": 4,
   "id": "58a2414b-dbe5-4639-825d-484279bc09e5",
   "metadata": {},
   "outputs": [
    {
     "name": "stdout",
     "output_type": "stream",
     "text": [
      "[58, 64]\n",
      "[139, 154]\n"
     ]
    }
   ],
   "source": [
    "def check_matrix_dimensions(matrix1, matrix2):\n",
    "    if len(matrix1[0]) != len(matrix2):\n",
    "        raise ValueError(\"Number of columns in the first matrix must be equal to the number of rows in the second matrix.\")\n",
    "\n",
    "def initialize_result_matrix(rows, cols):\n",
    "    return [[0 for _ in range(cols)] for _ in range(rows)]\n",
    "\n",
    "def matrix_multiplication(matrix1, matrix2):\n",
    "    check_matrix_dimensions(matrix1, matrix2)\n",
    "\n",
    "    result_rows = len(matrix1)\n",
    "    result_cols = len(matrix2[0])\n",
    "    result = initialize_result_matrix(result_rows, result_cols)\n",
    "\n",
    "    for i in range(result_rows):\n",
    "        for j in range(result_cols):\n",
    "            for k in range(len(matrix2)):\n",
    "                result[i][j] += matrix1[i][k] * matrix2[k][j]\n",
    "\n",
    "    return result\n",
    "\n",
    "matrix1 = [[1, 2, 3],\n",
    "           [4, 5, 6]]\n",
    "matrix2 = [[7, 8],\n",
    "           [9, 10],\n",
    "           [11, 12]]\n",
    "\n",
    "result = matrix_multiplication(matrix1, matrix2)\n",
    "for row in result:\n",
    "    print(row)"
   ]
  },
  {
   "cell_type": "markdown",
   "id": "c3c431a3-74d5-4708-a947-c595e7d4a8e4",
   "metadata": {},
   "source": [
    "3. The rule of distributivity states that given two matrices 𝐴 and 𝐵 and a scalar, 𝑘, then 𝑘(𝐴+𝐵)=𝑘𝐴+𝑘𝐵. Instead of writing a proof mathematically, develop two codes for 𝑘(𝐴+𝐵) and 𝑘𝐴+𝑘𝐵.\n"
   ]
  },
  {
   "cell_type": "code",
   "execution_count": 9,
   "id": "571dac6c-1f91-40ed-87dc-d8b28ffd84b7",
   "metadata": {},
   "outputs": [
    {
     "name": "stdout",
     "output_type": "stream",
     "text": [
      "k(A + B):\n",
      "[12, 16]\n",
      "[20, 24]\n",
      "\n",
      "kA + kB:\n",
      "[12, 16]\n",
      "[20, 24]\n"
     ]
    }
   ],
   "source": [
    "def scalar_matrix_multiplication(scalar, matrix):\n",
    "    result = [[scalar * element for element in row] for row in matrix]\n",
    "    return result\n",
    "\n",
    "def matrix_addition(matrix1, matrix2):\n",
    "    result = [[matrix1[i][j] + matrix2[i][j] for j in range(len(matrix1[0]))] for i in range(len(matrix1))]\n",
    "    return result\n",
    "\n",
    "# Example matrices\n",
    "matrix_A = [\n",
    "    [1, 2],\n",
    "    [3, 4],\n",
    "]\n",
    "\n",
    "matrix_B = [\n",
    "    [5, 6],\n",
    "    [7, 8],\n",
    "]\n",
    "\n",
    "scalar_k = 2\n",
    "\n",
    "# k(A + B)\n",
    "result_k_A_plus_B = scalar_matrix_multiplication(scalar_k, matrix_addition(matrix_A, matrix_B))\n",
    "\n",
    "# kA + kB\n",
    "result_kA_plus_kB = matrix_addition(scalar_matrix_multiplication(scalar_k, matrix_A),\n",
    "                                     scalar_matrix_multiplication(scalar_k, matrix_B))\n",
    "\n",
    "# Display the results\n",
    "print(\"k(A + B):\")\n",
    "for row in result_k_A_plus_B:\n",
    "    print(row)\n",
    "\n",
    "print(\"\\nkA + kB:\")\n",
    "for row in result_kA_plus_kB:\n",
    "    print(row)\n"
   ]
  },
  {
   "cell_type": "code",
   "execution_count": null,
   "id": "1af21a44-1e43-4688-b21e-76bdfeb06e26",
   "metadata": {},
   "outputs": [],
   "source": [
    "4. Without using a python library or modules develop a function that can extract the diagonal of a numpy matrix.\n"
   ]
  },
  {
   "cell_type": "code",
   "execution_count": 10,
   "id": "300cc142-2cb1-4e3e-918e-4ddb1c9e6210",
   "metadata": {},
   "outputs": [
    {
     "name": "stdout",
     "output_type": "stream",
     "text": [
      "Diagonal Elements: [1, 5, 9]\n"
     ]
    }
   ],
   "source": [
    "def get_diagonal(matrix):\n",
    "    # Check if the matrix is square\n",
    "    if len(matrix) != len(matrix[0]):\n",
    "        raise ValueError(\"Input matrix must be square for diagonal extraction.\")\n",
    "\n",
    "    # Extract diagonal elements\n",
    "    diagonal = [matrix[i][i] for i in range(len(matrix))]\n",
    "    \n",
    "    return diagonal\n",
    "\n",
    "# Example matrix\n",
    "numpy_matrix = [\n",
    "    [1, 2, 3],\n",
    "    [4, 5, 6],\n",
    "    [7, 8, 9],\n",
    "]\n",
    "\n",
    "# Extract diagonal\n",
    "diagonal_elements = get_diagonal(numpy_matrix)\n",
    "\n",
    "# Display the result\n",
    "print(\"Diagonal Elements:\", diagonal_elements)\n"
   ]
  },
  {
   "cell_type": "code",
   "execution_count": null,
   "id": "79f51ee4-0417-47cb-b4a2-7a61f4dee94d",
   "metadata": {},
   "outputs": [],
   "source": [
    "Problem Solving"
   ]
  },
  {
   "cell_type": "markdown",
   "id": "e6536a0d-a07c-47f7-83bb-e87022d0dbee",
   "metadata": {},
   "source": [
    "# 1. Solve $X$ given that\n"
   ]
  },
  {
   "cell_type": "markdown",
   "id": "4527cd15-9985-48dd-b1b3-f1936f41b72c",
   "metadata": {},
   "source": [
    "\\begin{equation}\n",
    "A =\n",
    "\\begin{bmatrix}\n",
    "1 & 2 \\\\\n",
    "3 & 4 \\\\\n",
    "\\end{bmatrix},\n",
    "B =\n",
    "\\begin{bmatrix}\n",
    "-1 & 0 \\\\\n",
    "1 & 1 \\\\\n",
    "\\end{bmatrix}\n",
    "\\end{equation}\n",
    "\n"
   ]
  },
  {
   "cell_type": "markdown",
   "id": "7121423e-4530-42ee-8b7c-38a3313ed121",
   "metadata": {},
   "source": [
    "a. $3X = A-2B$<br>"
   ]
  },
  {
   "cell_type": "markdown",
   "id": "1e40996c-0c38-43ba-85ba-e64ad8ca9c7b",
   "metadata": {},
   "source": [
    "$X = \\frac{1}{3}(A - 2B)$\\\n",
    "$A = \\begin{bmatrix} 1 & 2 \\\\ 3 & 4 \\end{bmatrix}$\\\n",
    "$B = \\begin{bmatrix} -1 & 0 \\\\ 1 & 1 \\end{bmatrix}$\n",
    "\n",
    "$A - 2B = \\begin{bmatrix} 1 & 2 \\\\ 3 & 4 \\end{bmatrix} - 2 \\begin{bmatrix} -1 & 0 \\\\ 1 & 1 \\end{bmatrix}$\\\n",
    "$= \\begin{bmatrix} 1 & 2 \\\\ 3 & 4 \\end{bmatrix} - \\begin{bmatrix} -2 & 0 \\\\ 2 & 2 \\end{bmatrix}$\\\n",
    "$= \\begin{bmatrix} 3 & 2 \\\\ 1 & 2 \\end{bmatrix}$\n",
    "\n"
   ]
  },
  {
   "cell_type": "code",
   "execution_count": 2,
   "id": "294b45a9-a3c4-44c5-aacb-ed5abdd523f5",
   "metadata": {},
   "outputs": [
    {
     "name": "stdout",
     "output_type": "stream",
     "text": [
      "X =\n",
      "[[1.         0.66666667]\n",
      " [0.33333333 0.66666667]]\n"
     ]
    }
   ],
   "source": [
    "import numpy as np\n",
    "\n",
    "# Define matrices A and B\n",
    "A = np.array([[1, 2], [3, 4]])\n",
    "B = np.array([[-1, 0], [1, 1]])\n",
    "\n",
    "# Compute A - 2B\n",
    "result = A - 2 * B\n",
    "\n",
    "# Divide the result by 3 to get X\n",
    "X = result / 3\n",
    "\n",
    "# Print the result\n",
    "print(\"X =\")\n",
    "print(X)\n"
   ]
  },
  {
   "cell_type": "markdown",
   "id": "2bd13ca4-e2a3-4321-83cd-cd2afdedca02",
   "metadata": {},
   "source": [
    "- $2(A-B+2X) = 3(X-B)$\n",
    "\n",
    "- $2A - 2B + 4X = 3X - 3B \\\\\n",
    "4X - 3X = 2B - 2A - 3B \\\\\n",
    "X = (2B - 2A - 3B) \\\\\n",
    "X = 2\n",
    "\\begin{bmatrix}\n",
    "-1 & 0 \\\\\n",
    "1 & 1 \\\\\n",
    "\\end{bmatrix}\n",
    "-\n",
    "2 \n",
    "\\begin{bmatrix}\n",
    "1 & 2 \\\\\n",
    "3 & 4 \\\\\n",
    "\\end{bmatrix}\n",
    "-\n",
    "3\n",
    "\\begin{bmatrix}\n",
    "-1 & 0 \\\\\n",
    "1 & 1 \\\\\n",
    "\\end{bmatrix}\n",
    "= \n",
    "\\begin{bmatrix}\n",
    "-2 & 0 \\\\\n",
    "2 & 2 \\\\\n",
    "\\end{bmatrix}\n",
    "-\n",
    "\\begin{bmatrix}\n",
    "2 & 4 \\\\\n",
    "6 & 8 \\\\\n",
    "\\end{bmatrix}\n",
    "-\n",
    "\\begin{bmatrix}\n",
    "-3 & 0 \\\\\n",
    "3 & 3 \\\\\n",
    "\\end{bmatrix}\n",
    "= \n",
    "\\begin{bmatrix}\n",
    "-2 - 2 + 3 & 0 - 4 - 0 \\\\\n",
    "2 - 6 - 3 & 2 - 8 - 3 \\\\\n",
    "\\end{bmatrix} \\\\\n",
    "\\boxed{\n",
    "\\\\\n",
    "X =\n",
    "\\begin{bmatrix}\n",
    "-1 & -4 \\\\\n",
    "-7 & -9 \\\\\n",
    "\\end{bmatrix}}\n",
    "$"
   ]
  },
  {
   "cell_type": "markdown",
   "id": "cc2dbe1e-2361-4956-808a-bc914bcb50f4",
   "metadata": {},
   "source": [
    "2. Write $B$ as a linear combination of the other matrices, if possible.\n",
    "\n",
    "\\begin{equation}\n",
    "A_1 =\n",
    "\\begin{bmatrix}\n",
    "1 & 2 \\\\\n",
    "-1 & 1 \\\\\n",
    "\\end{bmatrix},\n",
    "A_2 =\n",
    "\\begin{bmatrix}\n",
    "0 & 1 \\\\\n",
    "2 & 1 \\\\\n",
    "\\end{bmatrix},\n",
    "B =\n",
    "\\begin{bmatrix}\n",
    "2 & 5 \\\\\n",
    "0 & 3 \\\\\n",
    "\\end{bmatrix}\n",
    "\\end{equation}\n",
    "<br><br>\n",
    "- \n",
    "\\begin{equation}\n",
    "A_1 =\n",
    "\\begin{bmatrix}\n",
    "1 & 0 \\\\\n",
    "0 & 1 \\\\\n",
    "\\end{bmatrix},\n",
    "A_2 =\n",
    "\\begin{bmatrix}\n",
    "0 & 1 \\\\\n",
    "1 & 0 \\\\\n",
    "\\end{bmatrix},\n",
    "A_3 =\n",
    "\\begin{bmatrix}\n",
    "1 & -1 \\\\\n",
    "1 & 1 \\\\\n",
    "\\end{bmatrix}, <br>\n",
    "B =\n",
    "\\begin{bmatrix}\n",
    "2 & 5 \\\\\n",
    "0 & 3 \\\\\n",
    "\\end{bmatrix}\n",
    "\\end{equation}\n",
    "<br>\n",
    "<br>"
   ]
  }
 ],
 "metadata": {
  "kernelspec": {
   "display_name": "Python 3 (ipykernel)",
   "language": "python",
   "name": "python3"
  },
  "language_info": {
   "codemirror_mode": {
    "name": "ipython",
    "version": 3
   },
   "file_extension": ".py",
   "mimetype": "text/x-python",
   "name": "python",
   "nbconvert_exporter": "python",
   "pygments_lexer": "ipython3",
   "version": "3.11.5"
  }
 },
 "nbformat": 4,
 "nbformat_minor": 5
}
